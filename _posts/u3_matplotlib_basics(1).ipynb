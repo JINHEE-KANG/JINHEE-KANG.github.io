{
  "nbformat": 4,
  "nbformat_minor": 0,
  "metadata": {
    "colab": {
      "name": "u3_matplotlib_basics(1).ipynb",
      "provenance": [],
      "collapsed_sections": [],
      "mount_file_id": "1QoYsNUaI1oU63JRUvkCeNIkk1xbIPHBo",
      "authorship_tag": "ABX9TyOndmbnJUX8hYEUiv0qBhoQ",
      "include_colab_link": true
    },
    "kernelspec": {
      "name": "python3",
      "display_name": "Python 3"
    },
    "language_info": {
      "name": "python"
    }
  },
  "cells": [
    {
      "cell_type": "markdown",
      "metadata": {
        "id": "view-in-github",
        "colab_type": "text"
      },
      "source": [
        "<a href=\"https://colab.research.google.com/github/JINHEE-KANG/JINHEE-KANG.github.io/blob/master/_posts/u3_matplotlib_basics(1).ipynb\" target=\"_parent\"><img src=\"https://colab.research.google.com/assets/colab-badge.svg\" alt=\"Open In Colab\"/></a>"
      ]
    },
    {
      "cell_type": "markdown",
      "source": [
        "Ustage-week3 ***Data Visualization***"
      ],
      "metadata": {
        "id": "UTAiIGLZuCvt"
      }
    },
    {
      "cell_type": "markdown",
      "source": [
        "# Matplotlib\n",
        "\n",
        "\n",
        "Python에서 사용할 수 있는 시각화 라이브러리\n",
        "- `numpy`와 `scipy`같은 수학적 라이브러리 기반\n",
        "  - 머신러닝 라이브러리(`sklearn`,`pytorch`,`tensorflow`,`pandas`)와 호환이 좋다\n",
        "- 범용성이 넓고 가장 기본이 되는 시각화 라이브러리\n",
        "  - 시각화는 점,선,면으로 구현-->다양한 시각화 방법론을 쉽게 구성함\n",
        "- 이외에는 `seaborn`,`plotlt`, `bokeh`, `altair` 등이 있다"
      ],
      "metadata": {
        "id": "OiQZJt3RX-VR"
      }
    },
    {
      "cell_type": "markdown",
      "source": [
        "## Import"
      ],
      "metadata": {
        "id": "raHy0YOStsL3"
      }
    },
    {
      "cell_type": "code",
      "execution_count": null,
      "metadata": {
        "id": "Vgz7vntO9oF3"
      },
      "outputs": [],
      "source": [
        "import numpy as np\n",
        "import matplotlib as mpl"
      ]
    },
    {
      "cell_type": "markdown",
      "source": [
        "> `matplotlib`은 1,2차원 벡터에 대한 표현이 좋다. 그래서 `numpy`로 벡터를 사용하기 위해 같이 호출한다."
      ],
      "metadata": {
        "id": "rydHGItkYvxA"
      }
    },
    {
      "cell_type": "code",
      "source": [
        "# version check\n",
        "import sys\n",
        "\n",
        "print(f'python version:{sys.version}')\n",
        "print(f'numpy version:{np.__version__}')\n",
        "print(f'matplotlib version:{mpl.__version__}')"
      ],
      "metadata": {
        "colab": {
          "base_uri": "https://localhost:8080/"
        },
        "id": "DUTQ9XEeuQj-",
        "outputId": "f9e554cd-03a9-49ae-a5be-1727f9dc2ab9"
      },
      "execution_count": null,
      "outputs": [
        {
          "output_type": "stream",
          "name": "stdout",
          "text": [
            "python version:3.7.12 (default, Jan 15 2022, 18:48:18) \n",
            "[GCC 7.5.0]\n",
            "numpy version:1.19.5\n",
            "matplotlib version:3.2.2\n"
          ]
        }
      ]
    },
    {
      "cell_type": "code",
      "source": [
        "# installation\n",
        "## pip\n",
        "#!pip install matplotlib"
      ],
      "metadata": {
        "id": "FmZOLLA8urEo"
      },
      "execution_count": null,
      "outputs": []
    },
    {
      "cell_type": "markdown",
      "source": [
        "```\n",
        "💡 터미널 상에서 설치할 때\n",
        "\n",
        "▶ pip\n",
        "    python -m pip install -U pip\n",
        "    python -m pip install -U matplotlib\n",
        "▶ conda\n",
        "  - conda install matplotlib\n",
        "  - conda install -c conda-forge matplotlib\n",
        "```"
      ],
      "metadata": {
        "id": "ua2cVDdZuPmW"
      }
    },
    {
      "cell_type": "code",
      "source": [
        "import matplotlib.pyplot as plt"
      ],
      "metadata": {
        "id": "9xH90oaGw8W-"
      },
      "execution_count": null,
      "outputs": []
    },
    {
      "cell_type": "markdown",
      "source": [
        "> `matplotlib`에서 가장 많이 사용하는 `pyplot`모듈"
      ],
      "metadata": {
        "id": "VrPaw9LXxAZT"
      }
    },
    {
      "cell_type": "markdown",
      "source": [
        "# Plot Basics\n",
        "1. figure\n",
        "2. ax\n"
      ],
      "metadata": {
        "id": "14s4bJZWxO_R"
      }
    },
    {
      "cell_type": "markdown",
      "source": [
        "## figure 만들기\n",
        "☝ `plt.figure()`\n",
        "\n",
        "`fig`는 그래프를 그릴 큰 틀(팔레트)을 준비한다는 의미"
      ],
      "metadata": {
        "id": "KEn5frEsxZ0E"
      }
    },
    {
      "cell_type": "code",
      "source": [
        "fig = plt.figure()\n",
        "plt.show()\n",
        "# %matplotlib inline"
      ],
      "metadata": {
        "colab": {
          "base_uri": "https://localhost:8080/",
          "height": 35
        },
        "id": "MEGmUlSXxV2X",
        "outputId": "63685520-6dd4-4ab1-a368-9a1dca04f7fa"
      },
      "execution_count": null,
      "outputs": [
        {
          "output_type": "display_data",
          "data": {
            "text/plain": [
              "<Figure size 432x288 with 0 Axes>"
            ]
          },
          "metadata": {}
        }
      ]
    },
    {
      "cell_type": "markdown",
      "source": [
        "> 틀(팔레트)만 갖춘 상태. 그래프를 그리지 않아서 아무 것도 없다."
      ],
      "metadata": {
        "id": "xiAepPpnpZZ_"
      }
    },
    {
      "cell_type": "markdown",
      "source": [
        "```\n",
        "🔔 plt.show()는 Jupyter notebook이나 Ipython notebook에서는 필요없지만 다른 환경에서는 필요하다.\n",
        "\n",
        "▶ plt.show()는 그래프를 그려서 보여준다는 의미\n",
        "\n",
        " plt.show를 사용하지 않으면 주피터 노트북에서도 마지막 변수만 출력하는 경향이 있다\n",
        " plt.show 대신 %matplotlib inline을 사용해도 된다.\n",
        "```"
      ],
      "metadata": {
        "id": "fy_sIa4exiI6"
      }
    },
    {
      "cell_type": "markdown",
      "source": [
        "## ax 만들기\n",
        "☝ `fig.add_subplot()`\n",
        "\n",
        "`fig`에 `ax`를 하나 추가한다. `ax`는 그래프 공간을 의미한다."
      ],
      "metadata": {
        "id": "12zgJ7Var3N_"
      }
    },
    {
      "cell_type": "code",
      "source": [
        "fig = plt.figure()\n",
        "ax = fig.add_subplot()\n",
        "plt.show()"
      ],
      "metadata": {
        "colab": {
          "base_uri": "https://localhost:8080/",
          "height": 269
        },
        "id": "5jQHeNsQyTDo",
        "outputId": "12652766-02d3-407c-b650-9f2ada9f66b3"
      },
      "execution_count": null,
      "outputs": [
        {
          "output_type": "display_data",
          "data": {
            "image/png": "[encoded data removed]",
            "text/plain": [
              "<Figure size 432x288 with 1 Axes>"
            ]
          },
          "metadata": {
            "needs_background": "light"
          }
        }
      ]
    },
    {
      "cell_type": "markdown",
      "source": [
        "## ax 다루기\n",
        "- 사이즈 조절하기\n",
        "- 색상 바꾸기\n",
        "- 여러 개 만들기"
      ],
      "metadata": {
        "id": "b6stV4GEslL3"
      }
    },
    {
      "cell_type": "markdown",
      "source": [
        "### 사이즈 조절하기\n",
        "☝ `plt.figure(figsize=(w,h))`"
      ],
      "metadata": {
        "id": "w-Kgv_5rsnJ9"
      }
    },
    {
      "cell_type": "code",
      "source": [
        "fig = plt.figure(figsize=(12,7))\n",
        "ax = fig.add_subplot()\n",
        "plt.show()"
      ],
      "metadata": {
        "colab": {
          "base_uri": "https://localhost:8080/",
          "height": 432
        },
        "id": "XIqgeeN1yhIi",
        "outputId": "17354016-2d85-479f-ff9f-ab9d77834760"
      },
      "execution_count": null,
      "outputs": [
        {
          "output_type": "display_data",
          "data": {
            "image/png": "[encoded data removed]",
            "text/plain": [
              "<Figure size 864x504 with 1 Axes>"
            ]
          },
          "metadata": {
            "needs_background": "light"
          }
        }
      ]
    },
    {
      "cell_type": "markdown",
      "source": [
        "그래프 사이즈는 figsize로 ax의 사이즈를 조절한다. 원래 inch단위이기는 하지만 노트북에서는 정확한 길이보다는 비율이라고 생각하면 된다."
      ],
      "metadata": {
        "id": "3XM5TuZWygqk"
      }
    },
    {
      "cell_type": "markdown",
      "source": [
        "### 색상 바꾸기\n",
        "☝ `fig.set_facecolor()`\n"
      ],
      "metadata": {
        "id": "OEV6_DXNuzmE"
      }
    },
    {
      "cell_type": "code",
      "source": [
        "fig = plt.figure(figsize=(7,5))\n",
        "fig.set_facecolor('yellow') #figure 색상을 yellow로 지정\n",
        "ax = fig.add_subplot()\n",
        "plt.show()"
      ],
      "metadata": {
        "colab": {
          "base_uri": "https://localhost:8080/",
          "height": 54
        },
        "id": "3xCCEUFXzCFu",
        "outputId": "bfc5bae5-5aaa-4c8c-ef3d-aaea887ed0a6"
      },
      "execution_count": null,
      "outputs": [
        {
          "output_type": "display_data",
          "data": {
            "image/png": "[encoded data removed]",
            "text/plain": [
              "<Figure size 504x360 with 1 Axes>"
            ]
          },
          "metadata": {}
        }
      ]
    },
    {
      "cell_type": "markdown",
      "source": [
        "```\n",
        "💡 위 코드의 실행결과를 보면 fig와 ax를 더 쉽게 이해할 수 있다.\n",
        "\n",
        "set_facecolor()를 통해 figure를 yellow 색상으로 채웠고,yellow 색상의 팔레트 위에 (7,5)사이즈의 ax를 그렸다고 보면 된다.\n",
        "\n",
        "즉, figure라는 틀에 그래프를 그릴 공간 ax를 넣은 것이다.\n",
        "```"
      ],
      "metadata": {
        "id": "hD-sLBHVzPoW"
      }
    },
    {
      "cell_type": "markdown",
      "source": [
        "☝ `ax.set_facecolor()`"
      ],
      "metadata": {
        "id": "xDeHIBjY_hSl"
      }
    },
    {
      "cell_type": "code",
      "source": [
        "fig = plt.figure(figsize=(7,5))\n",
        "ax = fig.add_subplot()\n",
        "ax.set_facecolor('yellow') #ax 색상을 yellow로 지정\n",
        "plt.show()"
      ],
      "metadata": {
        "colab": {
          "base_uri": "https://localhost:8080/",
          "height": 54
        },
        "id": "HuZ74qhY_iBV",
        "outputId": "45283d79-059e-4ba8-901e-0e210c09220f"
      },
      "execution_count": null,
      "outputs": [
        {
          "output_type": "display_data",
          "data": {
            "image/png": "[encoded data removed]",
            "text/plain": [
              "<Figure size 504x360 with 1 Axes>"
            ]
          },
          "metadata": {
            "needs_background": "light"
          }
        }
      ]
    },
    {
      "cell_type": "markdown",
      "source": [
        "### 여러 개 만들기"
      ],
      "metadata": {
        "id": "aZCp-G6Fv0QC"
      }
    },
    {
      "cell_type": "code",
      "source": [
        "# (1x2) 공간에 ax 2개 만들기\n",
        "fig = plt.figure()\n",
        "ax = fig.add_subplot(1,2,1) #121 사용 가능\n",
        "ax = fig.add_subplot(1,2,2) #122 사용 가능\n",
        "plt.show()"
      ],
      "metadata": {
        "colab": {
          "base_uri": "https://localhost:8080/",
          "height": 269
        },
        "id": "hPoS2PwSzbbd",
        "outputId": "5b38cedf-f815-441b-88b9-ce407e70c715"
      },
      "execution_count": null,
      "outputs": [
        {
          "output_type": "display_data",
          "data": {
            "image/png": "[encoded data removed]",
            "text/plain": [
              "<Figure size 432x288 with 2 Axes>"
            ]
          },
          "metadata": {
            "needs_background": "light"
          }
        }
      ]
    },
    {
      "cell_type": "markdown",
      "source": [
        "```\n",
        "1,2,1은 1(row) x 2(col) 에서 1번째 그래프를 의미한다.\n",
        "1,2,2는 1(row) x 2(col) 에서 2번째 그래프를 의미한다.\n",
        "```"
      ],
      "metadata": {
        "id": "pndROqJ8wAuU"
      }
    },
    {
      "cell_type": "code",
      "source": [
        "# (2x1) 공간에 ax 2개 만들기\n",
        "fig = plt.figure()\n",
        "ax = fig.add_subplot(2,1,1) #211 사용 가능\n",
        "ax = fig.add_subplot(2,1,2) #212 사용 가능\n",
        "plt.show()"
      ],
      "metadata": {
        "colab": {
          "base_uri": "https://localhost:8080/"
        },
        "id": "TxF5X-MIz1Le",
        "outputId": "c96128e5-25b4-4bb2-bed2-11d299b3a106"
      },
      "execution_count": null,
      "outputs": [
        {
          "output_type": "display_data",
          "data": {
            "image/png": "[encoded data removed]",
            "text/plain": [
              "<Figure size 432x288 with 2 Axes>"
            ]
          },
          "metadata": {
            "needs_background": "light"
          }
        }
      ]
    },
    {
      "cell_type": "markdown",
      "source": [
        "```\n",
        "2,1,1은 2(row) x 1(col) 에서 1번째 그래프를 의미한다.\n",
        "2,1,2는 2(row) x 1(col) 에서 2번째 그래프를 의미한다.\n",
        "```"
      ],
      "metadata": {
        "id": "BjtCaYs_wdR8"
      }
    },
    {
      "cell_type": "code",
      "source": [
        "# (2x2) 공간에 ax 4개 만들기\n",
        "fig = plt.figure(figsize=(7,6))\n",
        "\n",
        "ax = fig.add_subplot(2,2,1) #121 사용 가능\n",
        "ax.set_title('ax1')\n",
        "ax.set_facecolor('yellow')\n",
        "\n",
        "ax = fig.add_subplot(2,2,2) #122 사용 가능\n",
        "ax.set_title('ax2')\n",
        "ax.set_facecolor('lightgreen')\n",
        "\n",
        "ax = fig.add_subplot(2,2,3) #122 사용 가능\n",
        "ax.set_title('ax3')\n",
        "ax.set_facecolor('orange')\n",
        "\n",
        "ax = fig.add_subplot(2,2,4) #122 사용 가능\n",
        "ax.set_title('ax4')\n",
        "ax.set_facecolor('skyblue')\n",
        "\n",
        "plt.show()"
      ],
      "metadata": {
        "colab": {
          "base_uri": "https://localhost:8080/",
          "height": 390
        },
        "id": "QhUAo7QDz-14",
        "outputId": "63f1eed0-968b-4a83-fadb-4298590522a5"
      },
      "execution_count": null,
      "outputs": [
        {
          "output_type": "display_data",
          "data": {
            "image/png": "[encoded data removed]",
            "text/plain": [
              "<Figure size 504x432 with 4 Axes>"
            ]
          },
          "metadata": {
            "needs_background": "light"
          }
        }
      ]
    },
    {
      "cell_type": "markdown",
      "source": [
        "```\n",
        "2,2,1은 2(row) x 2(col) 에서 1번째(1,1) 그래프를 의미한다.\n",
        "2,2,2은 2(row) x 2(col) 에서 2번째(1,2) 그래프를 의미한다.\n",
        "2,2,3은 2(row) x 2(col) 에서 3번째(2,1) 그래프를 의미한다.\n",
        "2,2,4은 2(row) x 2(col) 에서 4번째(2,2) 그래프를 의미한다.\n",
        "```"
      ],
      "metadata": {
        "id": "MEnDoW8RwxVp"
      }
    },
    {
      "cell_type": "markdown",
      "source": [
        "☝ `plt.subplots(r,c)`"
      ],
      "metadata": {
        "id": "tLyM6Uln_yOf"
      }
    },
    {
      "cell_type": "code",
      "source": [
        "# (2x2) 공간에 ax 4개 만들기\n",
        "fig,axes = plt.subplots(2,2,figsize=(7,6))\n",
        "\n",
        "colors = ['yellow','lightgreen','orange','skyblue']\n",
        "\n",
        "for idx in range(4): # 0,1,2,3\n",
        "  title = 'ax'+str(idx+1)\n",
        "  axes[idx//2][idx%2].set_title(title)\n",
        "  axes[idx//2][idx%2].set_facecolor(colors[idx])\n",
        "\n",
        "plt.show()"
      ],
      "metadata": {
        "colab": {
          "base_uri": "https://localhost:8080/",
          "height": 390
        },
        "id": "_-BHVbCs_508",
        "outputId": "4629458c-4a9b-4c54-f3a4-a18b415f4f1e"
      },
      "execution_count": null,
      "outputs": [
        {
          "output_type": "display_data",
          "data": {
            "image/png": "[encoded data removed]",
            "text/plain": [
              "<Figure size 504x432 with 4 Axes>"
            ]
          },
          "metadata": {
            "needs_background": "light"
          }
        }
      ]
    },
    {
      "cell_type": "code",
      "source": [
        "from IPython.core.display import display, HTML\n",
        "display(HTML(\"<style>.container {width:90% !important;}</style>\"))"
      ],
      "metadata": {
        "id": "dK3Yf4UwODTa"
      },
      "execution_count": null,
      "outputs": []
    }
  ]
}